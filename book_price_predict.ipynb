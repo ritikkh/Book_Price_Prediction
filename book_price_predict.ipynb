{
 "cells": [
  {
   "cell_type": "code",
   "execution_count": 1,
   "metadata": {},
   "outputs": [],
   "source": [
    "import pandas as pd\n",
    "import matplotlib.pyplot as plt\n",
    "import numpy as np\n",
    "import seaborn as sns\n",
    "%matplotlib inline"
   ]
  },
  {
   "cell_type": "code",
   "execution_count": 2,
   "metadata": {},
   "outputs": [],
   "source": [
    "train_df = pd.read_excel('./Data_Train.xlsx')\n",
    "test_df = pd.read_excel('./Data_Test.xlsx')"
   ]
  },
  {
   "cell_type": "code",
   "execution_count": 3,
   "metadata": {},
   "outputs": [
    {
     "data": {
      "text/plain": [
       "(6237, 9)"
      ]
     },
     "execution_count": 3,
     "metadata": {},
     "output_type": "execute_result"
    }
   ],
   "source": [
    "train_df.shape"
   ]
  },
  {
   "cell_type": "code",
   "execution_count": 4,
   "metadata": {},
   "outputs": [
    {
     "data": {
      "text/plain": [
       "(1560, 8)"
      ]
     },
     "execution_count": 4,
     "metadata": {},
     "output_type": "execute_result"
    }
   ],
   "source": [
    "test_df.shape"
   ]
  },
  {
   "cell_type": "code",
   "execution_count": 5,
   "metadata": {},
   "outputs": [],
   "source": [
    "big_df = train_df.append(test_df,sort = False)"
   ]
  },
  {
   "cell_type": "code",
   "execution_count": 6,
   "metadata": {},
   "outputs": [
    {
     "data": {
      "text/html": [
       "<div>\n",
       "<style scoped>\n",
       "    .dataframe tbody tr th:only-of-type {\n",
       "        vertical-align: middle;\n",
       "    }\n",
       "\n",
       "    .dataframe tbody tr th {\n",
       "        vertical-align: top;\n",
       "    }\n",
       "\n",
       "    .dataframe thead th {\n",
       "        text-align: right;\n",
       "    }\n",
       "</style>\n",
       "<table border=\"1\" class=\"dataframe\">\n",
       "  <thead>\n",
       "    <tr style=\"text-align: right;\">\n",
       "      <th></th>\n",
       "      <th>Title</th>\n",
       "      <th>Author</th>\n",
       "      <th>Edition</th>\n",
       "      <th>Reviews</th>\n",
       "      <th>Ratings</th>\n",
       "      <th>Synopsis</th>\n",
       "      <th>Genre</th>\n",
       "      <th>BookCategory</th>\n",
       "      <th>Price</th>\n",
       "    </tr>\n",
       "  </thead>\n",
       "  <tbody>\n",
       "    <tr>\n",
       "      <td>0</td>\n",
       "      <td>The Prisoner's Gold (The Hunters 3)</td>\n",
       "      <td>Chris Kuzneski</td>\n",
       "      <td>Paperback,– 10 Mar 2016</td>\n",
       "      <td>4.0 out of 5 stars</td>\n",
       "      <td>8 customer reviews</td>\n",
       "      <td>THE HUNTERS return in their third brilliant no...</td>\n",
       "      <td>Action &amp; Adventure (Books)</td>\n",
       "      <td>Action &amp; Adventure</td>\n",
       "      <td>220.00</td>\n",
       "    </tr>\n",
       "    <tr>\n",
       "      <td>1</td>\n",
       "      <td>Guru Dutt: A Tragedy in Three Acts</td>\n",
       "      <td>Arun Khopkar</td>\n",
       "      <td>Paperback,– 7 Nov 2012</td>\n",
       "      <td>3.9 out of 5 stars</td>\n",
       "      <td>14 customer reviews</td>\n",
       "      <td>A layered portrait of a troubled genius for wh...</td>\n",
       "      <td>Cinema &amp; Broadcast (Books)</td>\n",
       "      <td>Biographies, Diaries &amp; True Accounts</td>\n",
       "      <td>202.93</td>\n",
       "    </tr>\n",
       "    <tr>\n",
       "      <td>2</td>\n",
       "      <td>Leviathan (Penguin Classics)</td>\n",
       "      <td>Thomas Hobbes</td>\n",
       "      <td>Paperback,– 25 Feb 1982</td>\n",
       "      <td>4.8 out of 5 stars</td>\n",
       "      <td>6 customer reviews</td>\n",
       "      <td>\"During the time men live without a common Pow...</td>\n",
       "      <td>International Relations</td>\n",
       "      <td>Humour</td>\n",
       "      <td>299.00</td>\n",
       "    </tr>\n",
       "    <tr>\n",
       "      <td>3</td>\n",
       "      <td>A Pocket Full of Rye (Miss Marple)</td>\n",
       "      <td>Agatha Christie</td>\n",
       "      <td>Paperback,– 5 Oct 2017</td>\n",
       "      <td>4.1 out of 5 stars</td>\n",
       "      <td>13 customer reviews</td>\n",
       "      <td>A handful of grain is found in the pocket of a...</td>\n",
       "      <td>Contemporary Fiction (Books)</td>\n",
       "      <td>Crime, Thriller &amp; Mystery</td>\n",
       "      <td>180.00</td>\n",
       "    </tr>\n",
       "    <tr>\n",
       "      <td>4</td>\n",
       "      <td>LIFE 70 Years of Extraordinary Photography</td>\n",
       "      <td>Editors of Life</td>\n",
       "      <td>Hardcover,– 10 Oct 2006</td>\n",
       "      <td>5.0 out of 5 stars</td>\n",
       "      <td>1 customer review</td>\n",
       "      <td>For seven decades, \"Life\" has been thrilling t...</td>\n",
       "      <td>Photography Textbooks</td>\n",
       "      <td>Arts, Film &amp; Photography</td>\n",
       "      <td>965.62</td>\n",
       "    </tr>\n",
       "  </tbody>\n",
       "</table>\n",
       "</div>"
      ],
      "text/plain": [
       "                                        Title           Author  \\\n",
       "0         The Prisoner's Gold (The Hunters 3)   Chris Kuzneski   \n",
       "1          Guru Dutt: A Tragedy in Three Acts     Arun Khopkar   \n",
       "2                Leviathan (Penguin Classics)    Thomas Hobbes   \n",
       "3          A Pocket Full of Rye (Miss Marple)  Agatha Christie   \n",
       "4  LIFE 70 Years of Extraordinary Photography  Editors of Life   \n",
       "\n",
       "                   Edition             Reviews              Ratings  \\\n",
       "0  Paperback,– 10 Mar 2016  4.0 out of 5 stars   8 customer reviews   \n",
       "1   Paperback,– 7 Nov 2012  3.9 out of 5 stars  14 customer reviews   \n",
       "2  Paperback,– 25 Feb 1982  4.8 out of 5 stars   6 customer reviews   \n",
       "3   Paperback,– 5 Oct 2017  4.1 out of 5 stars  13 customer reviews   \n",
       "4  Hardcover,– 10 Oct 2006  5.0 out of 5 stars    1 customer review   \n",
       "\n",
       "                                            Synopsis  \\\n",
       "0  THE HUNTERS return in their third brilliant no...   \n",
       "1  A layered portrait of a troubled genius for wh...   \n",
       "2  \"During the time men live without a common Pow...   \n",
       "3  A handful of grain is found in the pocket of a...   \n",
       "4  For seven decades, \"Life\" has been thrilling t...   \n",
       "\n",
       "                          Genre                          BookCategory   Price  \n",
       "0    Action & Adventure (Books)                    Action & Adventure  220.00  \n",
       "1    Cinema & Broadcast (Books)  Biographies, Diaries & True Accounts  202.93  \n",
       "2       International Relations                                Humour  299.00  \n",
       "3  Contemporary Fiction (Books)             Crime, Thriller & Mystery  180.00  \n",
       "4         Photography Textbooks              Arts, Film & Photography  965.62  "
      ]
     },
     "execution_count": 6,
     "metadata": {},
     "output_type": "execute_result"
    }
   ],
   "source": [
    "big_df.head()"
   ]
  },
  {
   "cell_type": "code",
   "execution_count": 7,
   "metadata": {},
   "outputs": [
    {
     "name": "stdout",
     "output_type": "stream",
     "text": [
      "<class 'pandas.core.frame.DataFrame'>\n",
      "Int64Index: 7797 entries, 0 to 1559\n",
      "Data columns (total 9 columns):\n",
      "Title           7797 non-null object\n",
      "Author          7797 non-null object\n",
      "Edition         7797 non-null object\n",
      "Reviews         7797 non-null object\n",
      "Ratings         7797 non-null object\n",
      "Synopsis        7797 non-null object\n",
      "Genre           7797 non-null object\n",
      "BookCategory    7797 non-null object\n",
      "Price           6237 non-null float64\n",
      "dtypes: float64(1), object(8)\n",
      "memory usage: 609.1+ KB\n"
     ]
    }
   ],
   "source": [
    "big_df.info()"
   ]
  },
  {
   "cell_type": "code",
   "execution_count": 8,
   "metadata": {},
   "outputs": [
    {
     "data": {
      "text/plain": [
       "Agatha Christie                 87\n",
       "Ladybird                        63\n",
       "DK                              61\n",
       "Albert Uderzo                   48\n",
       "Herge                           40\n",
       "Nora Roberts                    40\n",
       "James Patterson                 39\n",
       "Bill Watterson                  36\n",
       "John Grisham                    34\n",
       "Sidney Sheldon                  33\n",
       "P.G. Wodehouse                  33\n",
       "Clive Cussler                   30\n",
       "Sophie Kinsella                 27\n",
       "Wilbur Smith                    26\n",
       "Stephen King                    26\n",
       "David Baldacci                  26\n",
       "Danielle Steel                  25\n",
       "Lee Child                       25\n",
       "George R.R. Martin              23\n",
       "Jeffrey Archer                  22\n",
       "Louis L'Amour                   21\n",
       "Frederick Forsyth               21\n",
       "Dreamland Publications          20\n",
       "Oliver Bowden                   20\n",
       "Michael Crichton                19\n",
       "Matthew Reilly                  19\n",
       "Akira Toriyama                  19\n",
       "Ruskin Bond                     18\n",
       "Neil Gaiman                     17\n",
       "Geronimo Stilton                17\n",
       "René Goscinny, Albert Uderzo    17\n",
       "Robert Ludlum                   16\n",
       "Various                         16\n",
       "Oxford Dictionaries             15\n",
       "Dan Brown                       15\n",
       "Ken Follett                     15\n",
       "Alistair MacLean                15\n",
       "James Rollins                   15\n",
       "J.K. Rowling                    14\n",
       "Trinity College Lond            14\n",
       "Novoneel Chakraborty            14\n",
       "Jim Davis                       14\n",
       "Daniel Silva                    14\n",
       "Haruki Murakami                 14\n",
       "Masashi Kishimoto               13\n",
       "Ian Fleming                     13\n",
       "Kohei Horikoshi                 13\n",
       "Luca Caioli                     13\n",
       "Dav Pilkey                      13\n",
       "National Geographic             12\n",
       "Ernest Hemingway                12\n",
       "Eiichiro Oda                    12\n",
       "Michael Connelly                12\n",
       "Cecelia Ahern                   12\n",
       "Bill Bryson                     12\n",
       "Satyajit Ray                    11\n",
       "Julia Donaldson                 11\n",
       "HBR                             11\n",
       "Anant Pai                       11\n",
       "Colleen Hoover                  11\n",
       "Name: Author, dtype: int64"
      ]
     },
     "execution_count": 8,
     "metadata": {},
     "output_type": "execute_result"
    }
   ],
   "source": [
    "big_df['Author'].value_counts().sort_values(ascending = False).head(60)"
   ]
  },
  {
   "cell_type": "code",
   "execution_count": 9,
   "metadata": {},
   "outputs": [],
   "source": [
    "def one_hot_top_x(df, variable, top_x_labels):\n",
    "    for label in top_x_labels:\n",
    "        df[variable+'_'+label] = np.where(df[variable] == label,1,0)"
   ]
  },
  {
   "cell_type": "code",
   "execution_count": 10,
   "metadata": {},
   "outputs": [],
   "source": [
    "top_60 = [x for x in big_df.Author.value_counts().sort_values(ascending = False).head(60).index]"
   ]
  },
  {
   "cell_type": "code",
   "execution_count": 11,
   "metadata": {},
   "outputs": [],
   "source": [
    "one_hot_top_x(big_df, 'Author', top_60)"
   ]
  },
  {
   "cell_type": "code",
   "execution_count": 12,
   "metadata": {},
   "outputs": [],
   "source": [
    "big_df['edition_type'] = big_df['Edition'].str.split(',').str[0]"
   ]
  },
  {
   "cell_type": "code",
   "execution_count": 13,
   "metadata": {},
   "outputs": [
    {
     "data": {
      "text/plain": [
       "Paperback                6458\n",
       "Hardcover                1056\n",
       "Mass Market Paperback     200\n",
       "Name: edition_type, dtype: int64"
      ]
     },
     "execution_count": 13,
     "metadata": {},
     "output_type": "execute_result"
    }
   ],
   "source": [
    "big_df['edition_type'].value_counts().sort_values(ascending = False).head(3)"
   ]
  },
  {
   "cell_type": "code",
   "execution_count": 14,
   "metadata": {},
   "outputs": [],
   "source": [
    "top_3 = [x for x in big_df.edition_type.value_counts().sort_values(ascending = False).head(3).index]"
   ]
  },
  {
   "cell_type": "code",
   "execution_count": 15,
   "metadata": {},
   "outputs": [],
   "source": [
    "one_hot_top_x(big_df, 'edition_type', top_3)"
   ]
  },
  {
   "cell_type": "code",
   "execution_count": 16,
   "metadata": {},
   "outputs": [],
   "source": [
    "big_df = big_df.drop(['edition_type'], axis=1)"
   ]
  },
  {
   "cell_type": "code",
   "execution_count": 17,
   "metadata": {},
   "outputs": [],
   "source": [
    "big_df = big_df.drop(['Author'], axis=1)"
   ]
  },
  {
   "cell_type": "code",
   "execution_count": 18,
   "metadata": {},
   "outputs": [
    {
     "data": {
      "text/plain": [
       "Action & Adventure                      1036\n",
       "Crime, Thriller & Mystery                878\n",
       "Comics & Mangas                          744\n",
       "Language, Linguistics & Writing          733\n",
       "Biographies, Diaries & True Accounts     732\n",
       "Romance                                  702\n",
       "Humour                                   670\n",
       "Computing, Internet & Digital Media      648\n",
       "Arts, Film & Photography                 638\n",
       "Sports                                   614\n",
       "Politics                                 402\n",
       "Name: BookCategory, dtype: int64"
      ]
     },
     "execution_count": 18,
     "metadata": {},
     "output_type": "execute_result"
    }
   ],
   "source": [
    "big_df['BookCategory'].value_counts()"
   ]
  },
  {
   "cell_type": "code",
   "execution_count": 19,
   "metadata": {},
   "outputs": [],
   "source": [
    "big_df = pd.get_dummies(big_df, columns=['BookCategory'])"
   ]
  },
  {
   "cell_type": "code",
   "execution_count": 20,
   "metadata": {},
   "outputs": [
    {
     "data": {
      "text/plain": [
       "Action & Adventure (Books)               1183\n",
       "Romance (Books)                           517\n",
       "Biographies & Autobiographies (Books)     463\n",
       "Crime, Thriller & Mystery (Books)         335\n",
       "Contemporary Fiction (Books)              325\n",
       "                                         ... \n",
       "Children's Language Learning (Books)       11\n",
       "Plays (Books)                              11\n",
       "Psychology (Books)                         11\n",
       "Meditation                                 11\n",
       "Vocabulary Books                           10\n",
       "Name: Genre, Length: 100, dtype: int64"
      ]
     },
     "execution_count": 20,
     "metadata": {},
     "output_type": "execute_result"
    }
   ],
   "source": [
    "big_df['Genre'].value_counts().sort_values(ascending=False).head(100)"
   ]
  },
  {
   "cell_type": "code",
   "execution_count": 21,
   "metadata": {},
   "outputs": [],
   "source": [
    "top_100 = [x for x in big_df.Genre.value_counts().sort_values(ascending = False).head(100).index]"
   ]
  },
  {
   "cell_type": "code",
   "execution_count": 22,
   "metadata": {},
   "outputs": [],
   "source": [
    "one_hot_top_x(big_df, 'Genre', top_100)"
   ]
  },
  {
   "cell_type": "code",
   "execution_count": 23,
   "metadata": {},
   "outputs": [],
   "source": [
    "big_df = big_df.drop(['Genre'], axis=1)"
   ]
  },
  {
   "cell_type": "code",
   "execution_count": 24,
   "metadata": {},
   "outputs": [],
   "source": [
    "big_df['reviews'] = big_df['Reviews'].str.split(' ').str[0]"
   ]
  },
  {
   "cell_type": "code",
   "execution_count": 25,
   "metadata": {},
   "outputs": [
    {
     "data": {
      "text/plain": [
       "5.0    1751\n",
       "4.0     713\n",
       "4.5     626\n",
       "4.6     491\n",
       "4.4     488\n",
       "4.3     450\n",
       "4.7     412\n",
       "4.2     406\n",
       "4.1     381\n",
       "3.9     300\n",
       "4.8     272\n",
       "3.8     239\n",
       "3.7     203\n",
       "3.0     176\n",
       "3.6     145\n",
       "3.5     143\n",
       "4.9      99\n",
       "3.4      92\n",
       "3.3      74\n",
       "1.0      65\n",
       "3.1      57\n",
       "3.2      50\n",
       "2.0      44\n",
       "2.9      36\n",
       "2.5      23\n",
       "2.7      18\n",
       "2.8      12\n",
       "2.3       7\n",
       "1.5       6\n",
       "2.4       5\n",
       "2.6       5\n",
       "2.2       3\n",
       "1.4       2\n",
       "1.7       1\n",
       "1.6       1\n",
       "2.1       1\n",
       "Name: reviews, dtype: int64"
      ]
     },
     "execution_count": 25,
     "metadata": {},
     "output_type": "execute_result"
    }
   ],
   "source": [
    "big_df['reviews'].value_counts()"
   ]
  },
  {
   "cell_type": "code",
   "execution_count": 26,
   "metadata": {},
   "outputs": [],
   "source": [
    "big_df['reviews'] = big_df['reviews'].astype(float)"
   ]
  },
  {
   "cell_type": "code",
   "execution_count": 27,
   "metadata": {},
   "outputs": [],
   "source": [
    "big_df = big_df.drop(['Reviews'], axis=1)"
   ]
  },
  {
   "cell_type": "code",
   "execution_count": 28,
   "metadata": {},
   "outputs": [],
   "source": [
    "big_df['ratings'] = big_df['Ratings'].str.split(' ').str[0]"
   ]
  },
  {
   "cell_type": "code",
   "execution_count": 29,
   "metadata": {},
   "outputs": [],
   "source": [
    "big_df['ratings'] = big_df['ratings'].replace(',','')"
   ]
  },
  {
   "cell_type": "code",
   "execution_count": 30,
   "metadata": {},
   "outputs": [],
   "source": [
    "def comma_remove(df):\n",
    "    a=[]\n",
    "    for i in df:\n",
    "        l = len(i)\n",
    "        for j in i:\n",
    "            if j == ',':\n",
    "                i = i.replace(',','')\n",
    "        a.append(i)\n",
    "        \n",
    "    return a"
   ]
  },
  {
   "cell_type": "code",
   "execution_count": 31,
   "metadata": {},
   "outputs": [],
   "source": [
    "big_df['ratings'] = comma_remove(big_df['ratings'])"
   ]
  },
  {
   "cell_type": "code",
   "execution_count": 32,
   "metadata": {},
   "outputs": [],
   "source": [
    "big_df['ratings'] = big_df['ratings'].astype(int)"
   ]
  },
  {
   "cell_type": "code",
   "execution_count": 33,
   "metadata": {},
   "outputs": [],
   "source": [
    "big_df = big_df.drop(['Ratings'], axis=1)"
   ]
  },
  {
   "cell_type": "code",
   "execution_count": 34,
   "metadata": {},
   "outputs": [
    {
     "data": {
      "text/html": [
       "<div>\n",
       "<style scoped>\n",
       "    .dataframe tbody tr th:only-of-type {\n",
       "        vertical-align: middle;\n",
       "    }\n",
       "\n",
       "    .dataframe tbody tr th {\n",
       "        vertical-align: top;\n",
       "    }\n",
       "\n",
       "    .dataframe thead th {\n",
       "        text-align: right;\n",
       "    }\n",
       "</style>\n",
       "<table border=\"1\" class=\"dataframe\">\n",
       "  <thead>\n",
       "    <tr style=\"text-align: right;\">\n",
       "      <th></th>\n",
       "      <th>Title</th>\n",
       "      <th>Edition</th>\n",
       "      <th>Synopsis</th>\n",
       "      <th>Price</th>\n",
       "      <th>Author_Agatha Christie</th>\n",
       "      <th>Author_Ladybird</th>\n",
       "      <th>Author_DK</th>\n",
       "      <th>Author_Albert Uderzo</th>\n",
       "      <th>Author_Herge</th>\n",
       "      <th>Author_Nora Roberts</th>\n",
       "      <th>...</th>\n",
       "      <th>Genre_Alphabet Reference</th>\n",
       "      <th>Genre_Mind, Body &amp; Spirit (Books)</th>\n",
       "      <th>Genre_Internet &amp; Web (Books)</th>\n",
       "      <th>Genre_Children's Language Learning (Books)</th>\n",
       "      <th>Genre_Plays (Books)</th>\n",
       "      <th>Genre_Psychology (Books)</th>\n",
       "      <th>Genre_Meditation</th>\n",
       "      <th>Genre_Vocabulary Books</th>\n",
       "      <th>reviews</th>\n",
       "      <th>ratings</th>\n",
       "    </tr>\n",
       "  </thead>\n",
       "  <tbody>\n",
       "    <tr>\n",
       "      <td>0</td>\n",
       "      <td>The Prisoner's Gold (The Hunters 3)</td>\n",
       "      <td>Paperback,– 10 Mar 2016</td>\n",
       "      <td>THE HUNTERS return in their third brilliant no...</td>\n",
       "      <td>220.00</td>\n",
       "      <td>0</td>\n",
       "      <td>0</td>\n",
       "      <td>0</td>\n",
       "      <td>0</td>\n",
       "      <td>0</td>\n",
       "      <td>0</td>\n",
       "      <td>...</td>\n",
       "      <td>0</td>\n",
       "      <td>0</td>\n",
       "      <td>0</td>\n",
       "      <td>0</td>\n",
       "      <td>0</td>\n",
       "      <td>0</td>\n",
       "      <td>0</td>\n",
       "      <td>0</td>\n",
       "      <td>4.0</td>\n",
       "      <td>8</td>\n",
       "    </tr>\n",
       "    <tr>\n",
       "      <td>1</td>\n",
       "      <td>Guru Dutt: A Tragedy in Three Acts</td>\n",
       "      <td>Paperback,– 7 Nov 2012</td>\n",
       "      <td>A layered portrait of a troubled genius for wh...</td>\n",
       "      <td>202.93</td>\n",
       "      <td>0</td>\n",
       "      <td>0</td>\n",
       "      <td>0</td>\n",
       "      <td>0</td>\n",
       "      <td>0</td>\n",
       "      <td>0</td>\n",
       "      <td>...</td>\n",
       "      <td>0</td>\n",
       "      <td>0</td>\n",
       "      <td>0</td>\n",
       "      <td>0</td>\n",
       "      <td>0</td>\n",
       "      <td>0</td>\n",
       "      <td>0</td>\n",
       "      <td>0</td>\n",
       "      <td>3.9</td>\n",
       "      <td>14</td>\n",
       "    </tr>\n",
       "    <tr>\n",
       "      <td>2</td>\n",
       "      <td>Leviathan (Penguin Classics)</td>\n",
       "      <td>Paperback,– 25 Feb 1982</td>\n",
       "      <td>\"During the time men live without a common Pow...</td>\n",
       "      <td>299.00</td>\n",
       "      <td>0</td>\n",
       "      <td>0</td>\n",
       "      <td>0</td>\n",
       "      <td>0</td>\n",
       "      <td>0</td>\n",
       "      <td>0</td>\n",
       "      <td>...</td>\n",
       "      <td>0</td>\n",
       "      <td>0</td>\n",
       "      <td>0</td>\n",
       "      <td>0</td>\n",
       "      <td>0</td>\n",
       "      <td>0</td>\n",
       "      <td>0</td>\n",
       "      <td>0</td>\n",
       "      <td>4.8</td>\n",
       "      <td>6</td>\n",
       "    </tr>\n",
       "    <tr>\n",
       "      <td>3</td>\n",
       "      <td>A Pocket Full of Rye (Miss Marple)</td>\n",
       "      <td>Paperback,– 5 Oct 2017</td>\n",
       "      <td>A handful of grain is found in the pocket of a...</td>\n",
       "      <td>180.00</td>\n",
       "      <td>1</td>\n",
       "      <td>0</td>\n",
       "      <td>0</td>\n",
       "      <td>0</td>\n",
       "      <td>0</td>\n",
       "      <td>0</td>\n",
       "      <td>...</td>\n",
       "      <td>0</td>\n",
       "      <td>0</td>\n",
       "      <td>0</td>\n",
       "      <td>0</td>\n",
       "      <td>0</td>\n",
       "      <td>0</td>\n",
       "      <td>0</td>\n",
       "      <td>0</td>\n",
       "      <td>4.1</td>\n",
       "      <td>13</td>\n",
       "    </tr>\n",
       "    <tr>\n",
       "      <td>4</td>\n",
       "      <td>LIFE 70 Years of Extraordinary Photography</td>\n",
       "      <td>Hardcover,– 10 Oct 2006</td>\n",
       "      <td>For seven decades, \"Life\" has been thrilling t...</td>\n",
       "      <td>965.62</td>\n",
       "      <td>0</td>\n",
       "      <td>0</td>\n",
       "      <td>0</td>\n",
       "      <td>0</td>\n",
       "      <td>0</td>\n",
       "      <td>0</td>\n",
       "      <td>...</td>\n",
       "      <td>0</td>\n",
       "      <td>0</td>\n",
       "      <td>0</td>\n",
       "      <td>0</td>\n",
       "      <td>0</td>\n",
       "      <td>0</td>\n",
       "      <td>0</td>\n",
       "      <td>0</td>\n",
       "      <td>5.0</td>\n",
       "      <td>1</td>\n",
       "    </tr>\n",
       "  </tbody>\n",
       "</table>\n",
       "<p>5 rows × 180 columns</p>\n",
       "</div>"
      ],
      "text/plain": [
       "                                        Title                  Edition  \\\n",
       "0         The Prisoner's Gold (The Hunters 3)  Paperback,– 10 Mar 2016   \n",
       "1          Guru Dutt: A Tragedy in Three Acts   Paperback,– 7 Nov 2012   \n",
       "2                Leviathan (Penguin Classics)  Paperback,– 25 Feb 1982   \n",
       "3          A Pocket Full of Rye (Miss Marple)   Paperback,– 5 Oct 2017   \n",
       "4  LIFE 70 Years of Extraordinary Photography  Hardcover,– 10 Oct 2006   \n",
       "\n",
       "                                            Synopsis   Price  \\\n",
       "0  THE HUNTERS return in their third brilliant no...  220.00   \n",
       "1  A layered portrait of a troubled genius for wh...  202.93   \n",
       "2  \"During the time men live without a common Pow...  299.00   \n",
       "3  A handful of grain is found in the pocket of a...  180.00   \n",
       "4  For seven decades, \"Life\" has been thrilling t...  965.62   \n",
       "\n",
       "   Author_Agatha Christie  Author_Ladybird  Author_DK  Author_Albert Uderzo  \\\n",
       "0                       0                0          0                     0   \n",
       "1                       0                0          0                     0   \n",
       "2                       0                0          0                     0   \n",
       "3                       1                0          0                     0   \n",
       "4                       0                0          0                     0   \n",
       "\n",
       "   Author_Herge  Author_Nora Roberts  ...  Genre_Alphabet Reference  \\\n",
       "0             0                    0  ...                         0   \n",
       "1             0                    0  ...                         0   \n",
       "2             0                    0  ...                         0   \n",
       "3             0                    0  ...                         0   \n",
       "4             0                    0  ...                         0   \n",
       "\n",
       "   Genre_Mind, Body & Spirit (Books)  Genre_Internet & Web (Books)  \\\n",
       "0                                  0                             0   \n",
       "1                                  0                             0   \n",
       "2                                  0                             0   \n",
       "3                                  0                             0   \n",
       "4                                  0                             0   \n",
       "\n",
       "   Genre_Children's Language Learning (Books)  Genre_Plays (Books)  \\\n",
       "0                                           0                    0   \n",
       "1                                           0                    0   \n",
       "2                                           0                    0   \n",
       "3                                           0                    0   \n",
       "4                                           0                    0   \n",
       "\n",
       "   Genre_Psychology (Books)  Genre_Meditation  Genre_Vocabulary Books  \\\n",
       "0                         0                 0                       0   \n",
       "1                         0                 0                       0   \n",
       "2                         0                 0                       0   \n",
       "3                         0                 0                       0   \n",
       "4                         0                 0                       0   \n",
       "\n",
       "   reviews  ratings  \n",
       "0      4.0        8  \n",
       "1      3.9       14  \n",
       "2      4.8        6  \n",
       "3      4.1       13  \n",
       "4      5.0        1  \n",
       "\n",
       "[5 rows x 180 columns]"
      ]
     },
     "execution_count": 34,
     "metadata": {},
     "output_type": "execute_result"
    }
   ],
   "source": [
    "big_df.head()"
   ]
  },
  {
   "cell_type": "code",
   "execution_count": 35,
   "metadata": {},
   "outputs": [],
   "source": [
    "big_df['edition_year'] = big_df['Edition'].str.split(' ').str[-1]"
   ]
  },
  {
   "cell_type": "code",
   "execution_count": 36,
   "metadata": {},
   "outputs": [
    {
     "data": {
      "text/plain": [
       "array(['2016', '2012', '1982', '2017', '2006', '2009', '2018', '2015',\n",
       "       '2013', '1999', '2002', '2011', '1991', '2014', '1989', '2000',\n",
       "       '2005', '2019', '2008', '2004', '2010', '2007', '2001', '1969',\n",
       "       '1993', '1992', '2003', '1996', 'Import', '1997', '1995', 'NTSC',\n",
       "       '1987', '1986', '1990', '1988', '1981', '1976', '1994', '1998',\n",
       "       '1977', '1974', '1983', '1971', '1985', '1978', 'Facsimile', 'set',\n",
       "       'Edition', '1964', '1984', '1980', 'Unabridged', '1979', 'Print',\n",
       "       '1960', '1970', '1975', '1905', '1900', 'Audiobook', '1961',\n",
       "       '1925', '1973', 'Illustrated', '1942', '1972'], dtype=object)"
      ]
     },
     "execution_count": 36,
     "metadata": {},
     "output_type": "execute_result"
    }
   ],
   "source": [
    "big_df['edition_year'].unique()"
   ]
  },
  {
   "cell_type": "code",
   "execution_count": 37,
   "metadata": {},
   "outputs": [
    {
     "data": {
      "text/plain": [
       "2018    1018\n",
       "2017     930\n",
       "2016     835\n",
       "2015     639\n",
       "2014     503\n",
       "2013     463\n",
       "2019     457\n",
       "2012     367\n",
       "2011     356\n",
       "2010     306\n",
       "2009     234\n",
       "2008     204\n",
       "2005     165\n",
       "2006     139\n",
       "2007     131\n",
       "2003     119\n",
       "2004     108\n",
       "2000      83\n",
       "2002      83\n",
       "2001      80\n",
       "1999      54\n",
       "1997      46\n",
       "1995      41\n",
       "1994      39\n",
       "1996      39\n",
       "1998      39\n",
       "1992      38\n",
       "1993      26\n",
       "1991      26\n",
       "1989      24\n",
       "1984      18\n",
       "1990      18\n",
       "1986      18\n",
       "1987      17\n",
       "1988      15\n",
       "1982      14\n",
       "1985      12\n",
       "Name: edition_year, dtype: int64"
      ]
     },
     "execution_count": 37,
     "metadata": {},
     "output_type": "execute_result"
    }
   ],
   "source": [
    "big_df['edition_year'].value_counts().head(37)"
   ]
  },
  {
   "cell_type": "code",
   "execution_count": 38,
   "metadata": {},
   "outputs": [],
   "source": [
    "top_37 = [x for x in big_df.edition_year.value_counts().sort_values(ascending = False).head(37).index]"
   ]
  },
  {
   "cell_type": "code",
   "execution_count": 39,
   "metadata": {},
   "outputs": [],
   "source": [
    "one_hot_top_x(big_df, 'edition_year', top_37)"
   ]
  },
  {
   "cell_type": "code",
   "execution_count": 40,
   "metadata": {},
   "outputs": [],
   "source": [
    "big_df['edition_month'] = big_df['Edition'].str.split(' ').str[-2]"
   ]
  },
  {
   "cell_type": "code",
   "execution_count": 41,
   "metadata": {},
   "outputs": [
    {
     "data": {
      "text/plain": [
       "Oct    795\n",
       "Sep    696\n",
       "May    668\n",
       "Jan    637\n",
       "Nov    625\n",
       "Jun    605\n",
       "Apr    605\n",
       "Jul    580\n",
       "Mar    574\n",
       "Aug    544\n",
       "Feb    508\n",
       "Dec    503\n",
       "Name: edition_month, dtype: int64"
      ]
     },
     "execution_count": 41,
     "metadata": {},
     "output_type": "execute_result"
    }
   ],
   "source": [
    "big_df['edition_month'].value_counts().head(12)"
   ]
  },
  {
   "cell_type": "code",
   "execution_count": 42,
   "metadata": {},
   "outputs": [],
   "source": [
    "top_12 = [x for x in big_df.edition_month.value_counts().sort_values(ascending = False).head(12).index]"
   ]
  },
  {
   "cell_type": "code",
   "execution_count": 43,
   "metadata": {},
   "outputs": [],
   "source": [
    "one_hot_top_x(big_df, 'edition_month', top_12)"
   ]
  },
  {
   "cell_type": "code",
   "execution_count": 44,
   "metadata": {},
   "outputs": [],
   "source": [
    "big_df = big_df.drop(['Edition'], axis=1)"
   ]
  },
  {
   "cell_type": "code",
   "execution_count": 45,
   "metadata": {},
   "outputs": [],
   "source": [
    "big_df = big_df.drop(['edition_year', 'edition_month'], axis=1)"
   ]
  },
  {
   "cell_type": "code",
   "execution_count": 46,
   "metadata": {},
   "outputs": [
    {
     "data": {
      "text/html": [
       "<div>\n",
       "<style scoped>\n",
       "    .dataframe tbody tr th:only-of-type {\n",
       "        vertical-align: middle;\n",
       "    }\n",
       "\n",
       "    .dataframe tbody tr th {\n",
       "        vertical-align: top;\n",
       "    }\n",
       "\n",
       "    .dataframe thead th {\n",
       "        text-align: right;\n",
       "    }\n",
       "</style>\n",
       "<table border=\"1\" class=\"dataframe\">\n",
       "  <thead>\n",
       "    <tr style=\"text-align: right;\">\n",
       "      <th></th>\n",
       "      <th>Title</th>\n",
       "      <th>Synopsis</th>\n",
       "      <th>Price</th>\n",
       "      <th>Author_Agatha Christie</th>\n",
       "      <th>Author_Ladybird</th>\n",
       "      <th>Author_DK</th>\n",
       "      <th>Author_Albert Uderzo</th>\n",
       "      <th>Author_Herge</th>\n",
       "      <th>Author_Nora Roberts</th>\n",
       "      <th>Author_James Patterson</th>\n",
       "      <th>...</th>\n",
       "      <th>edition_month_May</th>\n",
       "      <th>edition_month_Jan</th>\n",
       "      <th>edition_month_Nov</th>\n",
       "      <th>edition_month_Jun</th>\n",
       "      <th>edition_month_Apr</th>\n",
       "      <th>edition_month_Jul</th>\n",
       "      <th>edition_month_Mar</th>\n",
       "      <th>edition_month_Aug</th>\n",
       "      <th>edition_month_Feb</th>\n",
       "      <th>edition_month_Dec</th>\n",
       "    </tr>\n",
       "  </thead>\n",
       "  <tbody>\n",
       "    <tr>\n",
       "      <td>0</td>\n",
       "      <td>The Prisoner's Gold (The Hunters 3)</td>\n",
       "      <td>THE HUNTERS return in their third brilliant no...</td>\n",
       "      <td>220.00</td>\n",
       "      <td>0</td>\n",
       "      <td>0</td>\n",
       "      <td>0</td>\n",
       "      <td>0</td>\n",
       "      <td>0</td>\n",
       "      <td>0</td>\n",
       "      <td>0</td>\n",
       "      <td>...</td>\n",
       "      <td>0</td>\n",
       "      <td>0</td>\n",
       "      <td>0</td>\n",
       "      <td>0</td>\n",
       "      <td>0</td>\n",
       "      <td>0</td>\n",
       "      <td>1</td>\n",
       "      <td>0</td>\n",
       "      <td>0</td>\n",
       "      <td>0</td>\n",
       "    </tr>\n",
       "    <tr>\n",
       "      <td>1</td>\n",
       "      <td>Guru Dutt: A Tragedy in Three Acts</td>\n",
       "      <td>A layered portrait of a troubled genius for wh...</td>\n",
       "      <td>202.93</td>\n",
       "      <td>0</td>\n",
       "      <td>0</td>\n",
       "      <td>0</td>\n",
       "      <td>0</td>\n",
       "      <td>0</td>\n",
       "      <td>0</td>\n",
       "      <td>0</td>\n",
       "      <td>...</td>\n",
       "      <td>0</td>\n",
       "      <td>0</td>\n",
       "      <td>1</td>\n",
       "      <td>0</td>\n",
       "      <td>0</td>\n",
       "      <td>0</td>\n",
       "      <td>0</td>\n",
       "      <td>0</td>\n",
       "      <td>0</td>\n",
       "      <td>0</td>\n",
       "    </tr>\n",
       "    <tr>\n",
       "      <td>2</td>\n",
       "      <td>Leviathan (Penguin Classics)</td>\n",
       "      <td>\"During the time men live without a common Pow...</td>\n",
       "      <td>299.00</td>\n",
       "      <td>0</td>\n",
       "      <td>0</td>\n",
       "      <td>0</td>\n",
       "      <td>0</td>\n",
       "      <td>0</td>\n",
       "      <td>0</td>\n",
       "      <td>0</td>\n",
       "      <td>...</td>\n",
       "      <td>0</td>\n",
       "      <td>0</td>\n",
       "      <td>0</td>\n",
       "      <td>0</td>\n",
       "      <td>0</td>\n",
       "      <td>0</td>\n",
       "      <td>0</td>\n",
       "      <td>0</td>\n",
       "      <td>1</td>\n",
       "      <td>0</td>\n",
       "    </tr>\n",
       "    <tr>\n",
       "      <td>3</td>\n",
       "      <td>A Pocket Full of Rye (Miss Marple)</td>\n",
       "      <td>A handful of grain is found in the pocket of a...</td>\n",
       "      <td>180.00</td>\n",
       "      <td>1</td>\n",
       "      <td>0</td>\n",
       "      <td>0</td>\n",
       "      <td>0</td>\n",
       "      <td>0</td>\n",
       "      <td>0</td>\n",
       "      <td>0</td>\n",
       "      <td>...</td>\n",
       "      <td>0</td>\n",
       "      <td>0</td>\n",
       "      <td>0</td>\n",
       "      <td>0</td>\n",
       "      <td>0</td>\n",
       "      <td>0</td>\n",
       "      <td>0</td>\n",
       "      <td>0</td>\n",
       "      <td>0</td>\n",
       "      <td>0</td>\n",
       "    </tr>\n",
       "    <tr>\n",
       "      <td>4</td>\n",
       "      <td>LIFE 70 Years of Extraordinary Photography</td>\n",
       "      <td>For seven decades, \"Life\" has been thrilling t...</td>\n",
       "      <td>965.62</td>\n",
       "      <td>0</td>\n",
       "      <td>0</td>\n",
       "      <td>0</td>\n",
       "      <td>0</td>\n",
       "      <td>0</td>\n",
       "      <td>0</td>\n",
       "      <td>0</td>\n",
       "      <td>...</td>\n",
       "      <td>0</td>\n",
       "      <td>0</td>\n",
       "      <td>0</td>\n",
       "      <td>0</td>\n",
       "      <td>0</td>\n",
       "      <td>0</td>\n",
       "      <td>0</td>\n",
       "      <td>0</td>\n",
       "      <td>0</td>\n",
       "      <td>0</td>\n",
       "    </tr>\n",
       "  </tbody>\n",
       "</table>\n",
       "<p>5 rows × 228 columns</p>\n",
       "</div>"
      ],
      "text/plain": [
       "                                        Title  \\\n",
       "0         The Prisoner's Gold (The Hunters 3)   \n",
       "1          Guru Dutt: A Tragedy in Three Acts   \n",
       "2                Leviathan (Penguin Classics)   \n",
       "3          A Pocket Full of Rye (Miss Marple)   \n",
       "4  LIFE 70 Years of Extraordinary Photography   \n",
       "\n",
       "                                            Synopsis   Price  \\\n",
       "0  THE HUNTERS return in their third brilliant no...  220.00   \n",
       "1  A layered portrait of a troubled genius for wh...  202.93   \n",
       "2  \"During the time men live without a common Pow...  299.00   \n",
       "3  A handful of grain is found in the pocket of a...  180.00   \n",
       "4  For seven decades, \"Life\" has been thrilling t...  965.62   \n",
       "\n",
       "   Author_Agatha Christie  Author_Ladybird  Author_DK  Author_Albert Uderzo  \\\n",
       "0                       0                0          0                     0   \n",
       "1                       0                0          0                     0   \n",
       "2                       0                0          0                     0   \n",
       "3                       1                0          0                     0   \n",
       "4                       0                0          0                     0   \n",
       "\n",
       "   Author_Herge  Author_Nora Roberts  Author_James Patterson  ...  \\\n",
       "0             0                    0                       0  ...   \n",
       "1             0                    0                       0  ...   \n",
       "2             0                    0                       0  ...   \n",
       "3             0                    0                       0  ...   \n",
       "4             0                    0                       0  ...   \n",
       "\n",
       "   edition_month_May  edition_month_Jan  edition_month_Nov  edition_month_Jun  \\\n",
       "0                  0                  0                  0                  0   \n",
       "1                  0                  0                  1                  0   \n",
       "2                  0                  0                  0                  0   \n",
       "3                  0                  0                  0                  0   \n",
       "4                  0                  0                  0                  0   \n",
       "\n",
       "   edition_month_Apr  edition_month_Jul  edition_month_Mar  edition_month_Aug  \\\n",
       "0                  0                  0                  1                  0   \n",
       "1                  0                  0                  0                  0   \n",
       "2                  0                  0                  0                  0   \n",
       "3                  0                  0                  0                  0   \n",
       "4                  0                  0                  0                  0   \n",
       "\n",
       "   edition_month_Feb  edition_month_Dec  \n",
       "0                  0                  0  \n",
       "1                  0                  0  \n",
       "2                  1                  0  \n",
       "3                  0                  0  \n",
       "4                  0                  0  \n",
       "\n",
       "[5 rows x 228 columns]"
      ]
     },
     "execution_count": 46,
     "metadata": {},
     "output_type": "execute_result"
    }
   ],
   "source": [
    "big_df.head()"
   ]
  },
  {
   "cell_type": "markdown",
   "metadata": {},
   "source": [
    "# Here we may drop 'title' and 'synopsis' which also used with nlp"
   ]
  },
  {
   "cell_type": "code",
   "execution_count": 47,
   "metadata": {},
   "outputs": [],
   "source": [
    "big_df = big_df.drop(['Title', 'Synopsis'], axis=1)"
   ]
  },
  {
   "cell_type": "code",
   "execution_count": 48,
   "metadata": {},
   "outputs": [
    {
     "name": "stdout",
     "output_type": "stream",
     "text": [
      "<class 'pandas.core.frame.DataFrame'>\n",
      "Int64Index: 7797 entries, 0 to 1559\n",
      "Columns: 226 entries, Price to edition_month_Dec\n",
      "dtypes: float64(2), int32(213), uint8(11)\n",
      "memory usage: 6.6 MB\n"
     ]
    }
   ],
   "source": [
    "big_df.info()"
   ]
  },
  {
   "cell_type": "code",
   "execution_count": 49,
   "metadata": {},
   "outputs": [],
   "source": [
    "X = big_df.iloc[:,1:].values\n",
    "y = big_df.iloc[:,0].values"
   ]
  },
  {
   "cell_type": "code",
   "execution_count": 50,
   "metadata": {},
   "outputs": [],
   "source": [
    "from sklearn.model_selection import train_test_split\n",
    "X_train, X_test = train_test_split(X, test_size = 0.2, random_state = 0)"
   ]
  },
  {
   "cell_type": "code",
   "execution_count": 51,
   "metadata": {},
   "outputs": [
    {
     "data": {
      "text/plain": [
       "(6237, 225)"
      ]
     },
     "execution_count": 51,
     "metadata": {},
     "output_type": "execute_result"
    }
   ],
   "source": [
    "X_train.shape"
   ]
  },
  {
   "cell_type": "code",
   "execution_count": 52,
   "metadata": {},
   "outputs": [],
   "source": [
    "y_train = y[0:6237]"
   ]
  },
  {
   "cell_type": "code",
   "execution_count": 53,
   "metadata": {},
   "outputs": [
    {
     "data": {
      "text/plain": [
       "(6237,)"
      ]
     },
     "execution_count": 53,
     "metadata": {},
     "output_type": "execute_result"
    }
   ],
   "source": [
    "y_train.shape"
   ]
  },
  {
   "cell_type": "code",
   "execution_count": 54,
   "metadata": {},
   "outputs": [
    {
     "data": {
      "text/plain": [
       "[<matplotlib.lines.Line2D at 0x269a2e1a6c8>,\n",
       " <matplotlib.lines.Line2D at 0x269a2e23588>,\n",
       " <matplotlib.lines.Line2D at 0x269a2e23748>,\n",
       " <matplotlib.lines.Line2D at 0x269a2e23908>,\n",
       " <matplotlib.lines.Line2D at 0x269a2e23ac8>,\n",
       " <matplotlib.lines.Line2D at 0x269a2e23dc8>,\n",
       " <matplotlib.lines.Line2D at 0x269a2e23fc8>,\n",
       " <matplotlib.lines.Line2D at 0x269a2e2d288>,\n",
       " <matplotlib.lines.Line2D at 0x269a2e2d508>,\n",
       " <matplotlib.lines.Line2D at 0x269a2e23d08>,\n",
       " <matplotlib.lines.Line2D at 0x269a2e2d9c8>,\n",
       " <matplotlib.lines.Line2D at 0x269a2e2dc48>,\n",
       " <matplotlib.lines.Line2D at 0x269a2e2dec8>,\n",
       " <matplotlib.lines.Line2D at 0x269a2e2f188>,\n",
       " <matplotlib.lines.Line2D at 0x269a2e2f408>,\n",
       " <matplotlib.lines.Line2D at 0x269a2e2f688>,\n",
       " <matplotlib.lines.Line2D at 0x269a2e2f908>,\n",
       " <matplotlib.lines.Line2D at 0x269a2e2fb88>,\n",
       " <matplotlib.lines.Line2D at 0x269a2e2fe08>,\n",
       " <matplotlib.lines.Line2D at 0x269a2e320c8>,\n",
       " <matplotlib.lines.Line2D at 0x269a2e32348>,\n",
       " <matplotlib.lines.Line2D at 0x269a2e325c8>,\n",
       " <matplotlib.lines.Line2D at 0x269a2e32848>,\n",
       " <matplotlib.lines.Line2D at 0x269a2e32ac8>,\n",
       " <matplotlib.lines.Line2D at 0x269a2e32d48>,\n",
       " <matplotlib.lines.Line2D at 0x269a2e32fc8>,\n",
       " <matplotlib.lines.Line2D at 0x269a2e35288>,\n",
       " <matplotlib.lines.Line2D at 0x269a2e35508>,\n",
       " <matplotlib.lines.Line2D at 0x269a2e35788>,\n",
       " <matplotlib.lines.Line2D at 0x269a2e35a08>,\n",
       " <matplotlib.lines.Line2D at 0x269a2e35c88>,\n",
       " <matplotlib.lines.Line2D at 0x269a2e35f08>,\n",
       " <matplotlib.lines.Line2D at 0x269a2e371c8>,\n",
       " <matplotlib.lines.Line2D at 0x269a2e37448>,\n",
       " <matplotlib.lines.Line2D at 0x269a2e376c8>,\n",
       " <matplotlib.lines.Line2D at 0x269a2e37948>,\n",
       " <matplotlib.lines.Line2D at 0x269a2e37bc8>,\n",
       " <matplotlib.lines.Line2D at 0x269a2e37e48>,\n",
       " <matplotlib.lines.Line2D at 0x269a2e3b108>,\n",
       " <matplotlib.lines.Line2D at 0x269a2e3b388>,\n",
       " <matplotlib.lines.Line2D at 0x269a2e3b608>,\n",
       " <matplotlib.lines.Line2D at 0x269a2e3b888>,\n",
       " <matplotlib.lines.Line2D at 0x269a2e3bb08>,\n",
       " <matplotlib.lines.Line2D at 0x269a2e3bd88>,\n",
       " <matplotlib.lines.Line2D at 0x269a2e3e048>,\n",
       " <matplotlib.lines.Line2D at 0x269a2e3e2c8>,\n",
       " <matplotlib.lines.Line2D at 0x269a2e3e548>,\n",
       " <matplotlib.lines.Line2D at 0x269a2e3e7c8>,\n",
       " <matplotlib.lines.Line2D at 0x269a2e3ea48>,\n",
       " <matplotlib.lines.Line2D at 0x269a2e3ecc8>,\n",
       " <matplotlib.lines.Line2D at 0x269a2e3ef48>,\n",
       " <matplotlib.lines.Line2D at 0x269a2e41208>,\n",
       " <matplotlib.lines.Line2D at 0x269a2e41488>,\n",
       " <matplotlib.lines.Line2D at 0x269a2e41708>,\n",
       " <matplotlib.lines.Line2D at 0x269a2e41988>,\n",
       " <matplotlib.lines.Line2D at 0x269a2e41c08>,\n",
       " <matplotlib.lines.Line2D at 0x269a2e41e88>,\n",
       " <matplotlib.lines.Line2D at 0x269a2e44148>,\n",
       " <matplotlib.lines.Line2D at 0x269a2e443c8>,\n",
       " <matplotlib.lines.Line2D at 0x269a2e44648>,\n",
       " <matplotlib.lines.Line2D at 0x269a2e448c8>,\n",
       " <matplotlib.lines.Line2D at 0x269a2e44b48>,\n",
       " <matplotlib.lines.Line2D at 0x269a2e44dc8>,\n",
       " <matplotlib.lines.Line2D at 0x269a2e47088>,\n",
       " <matplotlib.lines.Line2D at 0x269a2e47308>,\n",
       " <matplotlib.lines.Line2D at 0x269a2e47588>,\n",
       " <matplotlib.lines.Line2D at 0x269a2e47888>,\n",
       " <matplotlib.lines.Line2D at 0x269a2e47a88>,\n",
       " <matplotlib.lines.Line2D at 0x269a2e47d08>,\n",
       " <matplotlib.lines.Line2D at 0x269a2e47f88>,\n",
       " <matplotlib.lines.Line2D at 0x269a2e49248>,\n",
       " <matplotlib.lines.Line2D at 0x269a2e494c8>,\n",
       " <matplotlib.lines.Line2D at 0x269a2e49748>,\n",
       " <matplotlib.lines.Line2D at 0x269a2e499c8>,\n",
       " <matplotlib.lines.Line2D at 0x269a2e49c48>,\n",
       " <matplotlib.lines.Line2D at 0x269a2e49ec8>,\n",
       " <matplotlib.lines.Line2D at 0x269a2e4c188>,\n",
       " <matplotlib.lines.Line2D at 0x269a2e4c408>,\n",
       " <matplotlib.lines.Line2D at 0x269a2e4c688>,\n",
       " <matplotlib.lines.Line2D at 0x269a2e4c908>,\n",
       " <matplotlib.lines.Line2D at 0x269a2e4cb88>,\n",
       " <matplotlib.lines.Line2D at 0x269a2e4ce08>,\n",
       " <matplotlib.lines.Line2D at 0x269a2e4f0c8>,\n",
       " <matplotlib.lines.Line2D at 0x269a2e4f348>,\n",
       " <matplotlib.lines.Line2D at 0x269a2e4f5c8>,\n",
       " <matplotlib.lines.Line2D at 0x269a2e4f848>,\n",
       " <matplotlib.lines.Line2D at 0x269a2e4fac8>,\n",
       " <matplotlib.lines.Line2D at 0x269a2e4fd48>,\n",
       " <matplotlib.lines.Line2D at 0x269a2e4ffc8>,\n",
       " <matplotlib.lines.Line2D at 0x269a2e52288>,\n",
       " <matplotlib.lines.Line2D at 0x269a2e52508>,\n",
       " <matplotlib.lines.Line2D at 0x269a2e52788>,\n",
       " <matplotlib.lines.Line2D at 0x269a2e52a08>,\n",
       " <matplotlib.lines.Line2D at 0x269a2e52c88>,\n",
       " <matplotlib.lines.Line2D at 0x269a2e52f08>,\n",
       " <matplotlib.lines.Line2D at 0x269a2e551c8>,\n",
       " <matplotlib.lines.Line2D at 0x269a2e55448>,\n",
       " <matplotlib.lines.Line2D at 0x269a2e556c8>,\n",
       " <matplotlib.lines.Line2D at 0x269a2e55948>,\n",
       " <matplotlib.lines.Line2D at 0x269a2e55bc8>,\n",
       " <matplotlib.lines.Line2D at 0x269a2e55e48>,\n",
       " <matplotlib.lines.Line2D at 0x269a2e57108>,\n",
       " <matplotlib.lines.Line2D at 0x269a2e57388>,\n",
       " <matplotlib.lines.Line2D at 0x269a2e57608>,\n",
       " <matplotlib.lines.Line2D at 0x269a2e57888>,\n",
       " <matplotlib.lines.Line2D at 0x269a2e57b08>,\n",
       " <matplotlib.lines.Line2D at 0x269a2e57d88>,\n",
       " <matplotlib.lines.Line2D at 0x269a2e5a048>,\n",
       " <matplotlib.lines.Line2D at 0x269a2e5a2c8>,\n",
       " <matplotlib.lines.Line2D at 0x269a2e5a548>,\n",
       " <matplotlib.lines.Line2D at 0x269a2e5a7c8>,\n",
       " <matplotlib.lines.Line2D at 0x269a2e5aa48>,\n",
       " <matplotlib.lines.Line2D at 0x269a2e5acc8>,\n",
       " <matplotlib.lines.Line2D at 0x269a2e5af48>,\n",
       " <matplotlib.lines.Line2D at 0x269a2e5d208>,\n",
       " <matplotlib.lines.Line2D at 0x269a2e5d488>,\n",
       " <matplotlib.lines.Line2D at 0x269a2e5d708>,\n",
       " <matplotlib.lines.Line2D at 0x269a2e5d988>,\n",
       " <matplotlib.lines.Line2D at 0x269a2e5dc08>,\n",
       " <matplotlib.lines.Line2D at 0x269a2e5de88>,\n",
       " <matplotlib.lines.Line2D at 0x269a2e61148>,\n",
       " <matplotlib.lines.Line2D at 0x269a2e613c8>,\n",
       " <matplotlib.lines.Line2D at 0x269a2e61648>,\n",
       " <matplotlib.lines.Line2D at 0x269a2e618c8>,\n",
       " <matplotlib.lines.Line2D at 0x269a2e61b48>,\n",
       " <matplotlib.lines.Line2D at 0x269a2e61dc8>,\n",
       " <matplotlib.lines.Line2D at 0x269a2e64088>,\n",
       " <matplotlib.lines.Line2D at 0x269a2e64308>,\n",
       " <matplotlib.lines.Line2D at 0x269a2e64588>,\n",
       " <matplotlib.lines.Line2D at 0x269a2e64808>,\n",
       " <matplotlib.lines.Line2D at 0x269a2e64a88>,\n",
       " <matplotlib.lines.Line2D at 0x269a2e64d08>,\n",
       " <matplotlib.lines.Line2D at 0x269a2e64f88>,\n",
       " <matplotlib.lines.Line2D at 0x269a2e67248>,\n",
       " <matplotlib.lines.Line2D at 0x269a2e674c8>,\n",
       " <matplotlib.lines.Line2D at 0x269a2e67748>,\n",
       " <matplotlib.lines.Line2D at 0x269a2e679c8>,\n",
       " <matplotlib.lines.Line2D at 0x269a2e67c48>,\n",
       " <matplotlib.lines.Line2D at 0x269a2e67ec8>,\n",
       " <matplotlib.lines.Line2D at 0x269a2e69188>,\n",
       " <matplotlib.lines.Line2D at 0x269a2e69408>,\n",
       " <matplotlib.lines.Line2D at 0x269a2e69688>,\n",
       " <matplotlib.lines.Line2D at 0x269a2e69908>,\n",
       " <matplotlib.lines.Line2D at 0x269a2e69b88>,\n",
       " <matplotlib.lines.Line2D at 0x269a2e69e08>,\n",
       " <matplotlib.lines.Line2D at 0x269a2e6c0c8>,\n",
       " <matplotlib.lines.Line2D at 0x269a2e6c348>,\n",
       " <matplotlib.lines.Line2D at 0x269a2e6c5c8>,\n",
       " <matplotlib.lines.Line2D at 0x269a2e6c848>,\n",
       " <matplotlib.lines.Line2D at 0x269a2e6cac8>,\n",
       " <matplotlib.lines.Line2D at 0x269a2e6cd48>,\n",
       " <matplotlib.lines.Line2D at 0x269a2e6cfc8>,\n",
       " <matplotlib.lines.Line2D at 0x269a2e6f288>,\n",
       " <matplotlib.lines.Line2D at 0x269a2e6f508>,\n",
       " <matplotlib.lines.Line2D at 0x269a2e6f788>,\n",
       " <matplotlib.lines.Line2D at 0x269a2e6fa08>,\n",
       " <matplotlib.lines.Line2D at 0x269a2e6fc88>,\n",
       " <matplotlib.lines.Line2D at 0x269a2e6ff08>,\n",
       " <matplotlib.lines.Line2D at 0x269a2e721c8>,\n",
       " <matplotlib.lines.Line2D at 0x269a2e72448>,\n",
       " <matplotlib.lines.Line2D at 0x269a2e726c8>,\n",
       " <matplotlib.lines.Line2D at 0x269a2e72948>,\n",
       " <matplotlib.lines.Line2D at 0x269a2e72bc8>,\n",
       " <matplotlib.lines.Line2D at 0x269a2e72e48>,\n",
       " <matplotlib.lines.Line2D at 0x269a2e75108>,\n",
       " <matplotlib.lines.Line2D at 0x269a2e75388>,\n",
       " <matplotlib.lines.Line2D at 0x269a2e75608>,\n",
       " <matplotlib.lines.Line2D at 0x269a2e75888>,\n",
       " <matplotlib.lines.Line2D at 0x269a2e75b08>,\n",
       " <matplotlib.lines.Line2D at 0x269a2e75d88>,\n",
       " <matplotlib.lines.Line2D at 0x269a2e78048>,\n",
       " <matplotlib.lines.Line2D at 0x269a2e782c8>,\n",
       " <matplotlib.lines.Line2D at 0x269a2e78548>,\n",
       " <matplotlib.lines.Line2D at 0x269a2e787c8>,\n",
       " <matplotlib.lines.Line2D at 0x269a2e78a48>,\n",
       " <matplotlib.lines.Line2D at 0x269a2e78cc8>,\n",
       " <matplotlib.lines.Line2D at 0x269a2e78f48>,\n",
       " <matplotlib.lines.Line2D at 0x269a2e7a208>,\n",
       " <matplotlib.lines.Line2D at 0x269a2e7a488>,\n",
       " <matplotlib.lines.Line2D at 0x269a2e7a708>,\n",
       " <matplotlib.lines.Line2D at 0x269a2e7a988>,\n",
       " <matplotlib.lines.Line2D at 0x269a2e7ac08>,\n",
       " <matplotlib.lines.Line2D at 0x269a2e7ae88>,\n",
       " <matplotlib.lines.Line2D at 0x269a2e7d148>,\n",
       " <matplotlib.lines.Line2D at 0x269a2e7d3c8>,\n",
       " <matplotlib.lines.Line2D at 0x269a2e7d648>,\n",
       " <matplotlib.lines.Line2D at 0x269a2e7d8c8>,\n",
       " <matplotlib.lines.Line2D at 0x269a2e7db48>,\n",
       " <matplotlib.lines.Line2D at 0x269a2e7ddc8>,\n",
       " <matplotlib.lines.Line2D at 0x269a2e80088>,\n",
       " <matplotlib.lines.Line2D at 0x269a2e80308>,\n",
       " <matplotlib.lines.Line2D at 0x269a2e80588>,\n",
       " <matplotlib.lines.Line2D at 0x269a2e80808>,\n",
       " <matplotlib.lines.Line2D at 0x269a2e80a88>,\n",
       " <matplotlib.lines.Line2D at 0x269a2e80d08>,\n",
       " <matplotlib.lines.Line2D at 0x269a2e80f88>,\n",
       " <matplotlib.lines.Line2D at 0x269a2e84248>,\n",
       " <matplotlib.lines.Line2D at 0x269a2e844c8>,\n",
       " <matplotlib.lines.Line2D at 0x269a2e84748>,\n",
       " <matplotlib.lines.Line2D at 0x269a2e849c8>,\n",
       " <matplotlib.lines.Line2D at 0x269a2e84c48>,\n",
       " <matplotlib.lines.Line2D at 0x269a2e84ec8>,\n",
       " <matplotlib.lines.Line2D at 0x269a2e87188>,\n",
       " <matplotlib.lines.Line2D at 0x269a2e87408>,\n",
       " <matplotlib.lines.Line2D at 0x269a2e87688>,\n",
       " <matplotlib.lines.Line2D at 0x269a2e87908>,\n",
       " <matplotlib.lines.Line2D at 0x269a2e87b88>,\n",
       " <matplotlib.lines.Line2D at 0x269a2e87e08>,\n",
       " <matplotlib.lines.Line2D at 0x269a2e890c8>,\n",
       " <matplotlib.lines.Line2D at 0x269a2e89348>,\n",
       " <matplotlib.lines.Line2D at 0x269a2e895c8>,\n",
       " <matplotlib.lines.Line2D at 0x269a2e89848>,\n",
       " <matplotlib.lines.Line2D at 0x269a2e89ac8>,\n",
       " <matplotlib.lines.Line2D at 0x269a2e89d48>,\n",
       " <matplotlib.lines.Line2D at 0x269a2e89fc8>,\n",
       " <matplotlib.lines.Line2D at 0x269a2e8c288>,\n",
       " <matplotlib.lines.Line2D at 0x269a2e8c508>,\n",
       " <matplotlib.lines.Line2D at 0x269a2e8c788>,\n",
       " <matplotlib.lines.Line2D at 0x269a2e8ca08>,\n",
       " <matplotlib.lines.Line2D at 0x269a2e8cc88>,\n",
       " <matplotlib.lines.Line2D at 0x269a2e8cf08>,\n",
       " <matplotlib.lines.Line2D at 0x269a2e8f1c8>,\n",
       " <matplotlib.lines.Line2D at 0x269a2e8f448>,\n",
       " <matplotlib.lines.Line2D at 0x269a2e8f6c8>,\n",
       " <matplotlib.lines.Line2D at 0x269a2e8f948>]"
      ]
     },
     "execution_count": 54,
     "metadata": {},
     "output_type": "execute_result"
    },
    {
     "data": {
      "image/png": "[encoded data removed]",
      "text/plain": [
       "<Figure size 432x288 with 1 Axes>"
      ]
     },
     "metadata": {
      "needs_background": "light"
     },
     "output_type": "display_data"
    }
   ],
   "source": [
    "plt.plot(X_train, y_train, color = 'red')"
   ]
  },
  {
   "cell_type": "markdown",
   "metadata": {},
   "source": [
    "# Now apply ML model to predict price"
   ]
  },
  {
   "cell_type": "code",
   "execution_count": 55,
   "metadata": {},
   "outputs": [],
   "source": [
    "#from sklearn.ensemble import RandomForestRegressor\n",
    "#regressor = RandomForestRegressor(n_estimators=10,criterion='mse')\n",
    "#regressor.fit(X_train, y_train)"
   ]
  },
  {
   "cell_type": "code",
   "execution_count": 58,
   "metadata": {},
   "outputs": [
    {
     "data": {
      "text/plain": [
       "DecisionTreeRegressor(criterion='mse', max_depth=None, max_features=None,\n",
       "                      max_leaf_nodes=None, min_impurity_decrease=0.0,\n",
       "                      min_impurity_split=None, min_samples_leaf=1,\n",
       "                      min_samples_split=2, min_weight_fraction_leaf=0.0,\n",
       "                      presort=False, random_state=None, splitter='best')"
      ]
     },
     "execution_count": 58,
     "metadata": {},
     "output_type": "execute_result"
    }
   ],
   "source": [
    "from sklearn.tree import DecisionTreeRegressor\n",
    "regressor = DecisionTreeRegressor(criterion='mse')\n",
    "regressor.fit(X_train, y_train)"
   ]
  },
  {
   "cell_type": "code",
   "execution_count": 59,
   "metadata": {},
   "outputs": [],
   "source": [
    "y_test = regressor.predict(X_test)"
   ]
  },
  {
   "cell_type": "code",
   "execution_count": 60,
   "metadata": {},
   "outputs": [
    {
     "data": {
      "text/plain": [
       "array([ 388.51,  556.  ,  295.  , ..., 2964.  , 1007.  ,  162.  ])"
      ]
     },
     "execution_count": 60,
     "metadata": {},
     "output_type": "execute_result"
    }
   ],
   "source": [
    "y_test"
   ]
  },
  {
   "cell_type": "code",
   "execution_count": 61,
   "metadata": {},
   "outputs": [
    {
     "data": {
      "image/png": "[encoded data removed]",
      "text/plain": [
       "<Figure size 432x288 with 1 Axes>"
      ]
     },
     "metadata": {
      "needs_background": "light"
     },
     "output_type": "display_data"
    }
   ],
   "source": [
    "plt.plot(X_train, regressor.predict(X_train), color = 'blue')\n",
    "plt.show()"
   ]
  },
  {
   "cell_type": "code",
   "execution_count": 62,
   "metadata": {},
   "outputs": [
    {
     "data": {
      "image/png": "[encoded data removed]",
      "text/plain": [
       "<Figure size 432x288 with 1 Axes>"
      ]
     },
     "metadata": {
      "needs_background": "light"
     },
     "output_type": "display_data"
    }
   ],
   "source": [
    "plt.plot(X_test, regressor.predict(X_test), color = 'blue')\n",
    "plt.show()"
   ]
  },
  {
   "cell_type": "code",
   "execution_count": null,
   "metadata": {},
   "outputs": [],
   "source": []
  },
  {
   "cell_type": "code",
   "execution_count": 63,
   "metadata": {},
   "outputs": [],
   "source": [
    "df = pd.DataFrame (y_test)\n",
    "filepath = 'my_sub_dt.xlsx'\n",
    "df.to_excel(filepath, index=False)"
   ]
  },
  {
   "cell_type": "code",
   "execution_count": null,
   "metadata": {},
   "outputs": [],
   "source": []
  }
 ],
 "metadata": {
  "kernelspec": {
   "display_name": "Python 3",
   "language": "python",
   "name": "python3"
  },
  "language_info": {
   "codemirror_mode": {
    "name": "ipython",
    "version": 3
   },
   "file_extension": ".py",
   "mimetype": "text/x-python",
   "name": "python",
   "nbconvert_exporter": "python",
   "pygments_lexer": "ipython3",
   "version": "3.7.4"
  }
 },
 "nbformat": 4,
 "nbformat_minor": 2
}
